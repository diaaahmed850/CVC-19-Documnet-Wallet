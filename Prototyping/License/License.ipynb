{
 "cells": [
  {
   "cell_type": "code",
   "execution_count": 1,
   "metadata": {},
   "outputs": [],
   "source": [
    "from helper import *\n",
    "from ImportLib import *\n",
    "from plot import *\n",
    "from LisenceAPI import *"
   ]
  },
  {
   "cell_type": "code",
   "execution_count": 2,
   "metadata": {},
   "outputs": [],
   "source": [
    "def LicenseMatcher(InputImage):\n",
    "    MIN_MATCH_COUNT = 2\n",
    "    detector=cv2.xfeatures2d.SIFT_create()\n",
    "\n",
    "    FLANN_INDEX_KDITREE = 0\n",
    "    flannParam=dict(algorithm=FLANN_INDEX_KDITREE,tree=5)\n",
    "    flann=cv2.FlannBasedMatcher(flannParam,{})\n",
    "\n",
    "    trainImg=cv2.imread(\"REF_LICENSE.jpg\",0)\n",
    "    trainKP,trainDesc=detector.detectAndCompute(trainImg,None)\n",
    "\n",
    "    QueryImgBGR = InputImage\n",
    "    QueryImgBGR = increase_brightness(QueryImgBGR, value=60)\n",
    "    QueryImg=cv2.cvtColor(QueryImgBGR,cv2.COLOR_BGR2GRAY)\n",
    "\n",
    "    queryKP,queryDesc = detector.detectAndCompute(QueryImg,None)\n",
    "    matches           = flann.knnMatch(queryDesc,trainDesc,k=2)\n",
    "    goodMatch         = []\n",
    "\n",
    "    for m,n in matches:\n",
    "        if(m.distance<0.75*n.distance):\n",
    "            goodMatch.append(m)\n",
    "\n",
    "    if(len(goodMatch)>MIN_MATCH_COUNT):\n",
    "        tp=[]\n",
    "        qp=[]\n",
    "        for m in goodMatch:\n",
    "            tp.append(trainKP[m.trainIdx].pt)\n",
    "            qp.append(queryKP[m.queryIdx].pt)\n",
    "        tp,qp=np.float32((tp,qp))\n",
    "        H,status=cv2.findHomography(tp,qp,cv2.RANSAC,3.0)\n",
    "        h,w=trainImg.shape\n",
    "        trainBorder=np.float32([[[0,0],[0,h-1],[w-1,h-1],[w-1,0]]])\n",
    "        queryBorder=cv2.perspectiveTransform(trainBorder,H)\n",
    "        x_points=[]\n",
    "        y_points=[]\n",
    "        for border in queryBorder[0]:\n",
    "            x_points.append(border[0])\n",
    "            y_points.append(border[1])\n",
    "\n",
    "        x_start=int(min(x_points))\n",
    "        y_start=int(min(y_points))\n",
    "        x_end=int(max(x_points))\n",
    "        y_end=int(max(y_points))\n",
    "        warped=QueryImgBGR[y_start:y_end,x_start:x_end]\n",
    "\n",
    "    else:\n",
    "        raise Exception('Not Enough match found,Make sure its an License Card and recapture the image again')\n",
    "        \n",
    "    Edged = four_point_transform(QueryImgBGR, queryBorder.reshape(4, 2))\n",
    "    \n",
    "    return Edged"
   ]
  },
  {
   "cell_type": "code",
   "execution_count": 3,
   "metadata": {
    "scrolled": true
   },
   "outputs": [],
   "source": [
    "def LicenseCutter(InputImage,CutLimit=0):\n",
    "    Kernel = np.ones((2,2), np.uint8)\n",
    "    Kernel_sharpen    = np.array([[-1,-1,-1], [-1, 9,-1],[-1,-1,-1]])\n",
    "    Kernel_Vertical   = np.ones((2,1), np.uint8)\n",
    "    Kernel_Horizontal = np.ones((1,2), np.uint8)\n",
    "\n",
    "    InputEdgedImage = LicenseMatcher(InputImage)\n",
    "    Edged_Resized = cv2.resize(InputEdgedImage,(1600,990))\n",
    "    Edged_Gray = cv2.cvtColor(Edged_Resized, cv2.COLOR_BGR2GRAY)\n",
    "    clahe = cv2.createCLAHE(clipLimit=1.0, tileGridSize=(8,8))\n",
    "    Edged_Gray = clahe.apply(Edged_Gray)\n",
    "\n",
    "    if CutLimit == 0:\n",
    "        Num = Edged_Gray[235:325,110:340]\n",
    "        Let = Edged_Gray[240:330,370:635]\n",
    "    elif CutLimit ==1:\n",
    "        Num = Edged_Gray[280:390,110:340]\n",
    "        Let = Edged_Gray[280:390,370:635]\n",
    "\n",
    "    ret,NumBIN  = cv2.threshold(Num,120,160,cv2.THRESH_BINARY)\n",
    "    NumBIN   = cv2.dilate(NumBIN,Kernel,iterations=2)\n",
    "    NumBIN   = cv2.erode(NumBIN,Kernel,iterations=1)\n",
    "\n",
    "    ret,NumOTSU = cv2.threshold(Num,160,255,cv2.THRESH_BINARY+cv2.THRESH_OTSU)\n",
    "    NumOTSU   = cv2.dilate(NumBIN,Kernel,iterations=1)\n",
    "    NumOTSU   = cv2.erode(NumBIN,Kernel,iterations=1)\n",
    "\n",
    "    ret,LetBIN  = cv2.threshold(Let,120,160,cv2.THRESH_BINARY)\n",
    "    LetBIN   = cv2.dilate(LetBIN,Kernel,iterations=2)\n",
    "    LetBIN   = cv2.erode(LetBIN,Kernel,iterations=1)\n",
    "\n",
    "    ret,LetOTSU = cv2.threshold(Let,160,255,cv2.THRESH_BINARY+cv2.THRESH_OTSU)\n",
    "    LetOTSU   = cv2.dilate(LetOTSU,Kernel,iterations=2)\n",
    "    LetOTSU   = cv2.erode(LetOTSU,Kernel,iterations=1)\n",
    "\n",
    "    Let   = cv2.dilate(Let,Kernel_Vertical,iterations=3)\n",
    "    Let   = cv2.dilate(Let,Kernel_Horizontal,iterations=3)\n",
    "    Let   = cv2.erode(Let,Kernel,iterations=2)\n",
    "    \n",
    "    return NumBIN,NumOTSU,LetOTSU,LetBIN"
   ]
  },
  {
   "cell_type": "code",
   "execution_count": 4,
   "metadata": {
    "scrolled": false
   },
   "outputs": [],
   "source": [
    "def LettersDetection(LetBIN,LetOTSU):\n",
    "    config = \"-l  fas-tune-float --oem 1 --psm 6\"\n",
    "\n",
    "    LettersBinary = pytesseract.image_to_string(LetBIN,config=config) \n",
    "    LettersOTSU   = pytesseract.image_to_string(LetOTSU,config=config)\n",
    "\n",
    "    if len(LettersBinary)==0 and  0 < len(LettersOTSU) < 4:\n",
    "        Letters = LettersOTSU\n",
    "    elif len(LettersOTSU)==0 and 0 < len(LettersBinary) < 4:\n",
    "        Letters = LettersBinary\n",
    "    else:\n",
    "        if  0 < len(LettersBinary) < 4  and len(LettersOTSU) > 4:\n",
    "            Letters = LettersBinary\n",
    "        else:\n",
    "            Letters = LettersOTSU\n",
    "\n",
    "    return Letters\n",
    "\n",
    "def NumbersDetection(NumBIN,NumOTSU):\n",
    "    \n",
    "    NumbersBinary = pytesseract.image_to_string(NumBIN,lang='ara_number') \n",
    "    NumbersOTSU   = pytesseract.image_to_string(NumOTSU,lang='ara_number')\n",
    "\n",
    "\n",
    "    if len(NumbersBinary)==0 and len(NumbersOTSU)!=0:\n",
    "        Numbers = NumbersOTSU\n",
    "    elif len(NumbersOTSU)==0 and len(NumbersBinary)!=0:\n",
    "        Numbers = NumbersBinary\n",
    "    else:\n",
    "        if len(NumbersBinary)==0 and len(NumbersOTSU)==0:\n",
    "            Numbers = ''\n",
    "        else:\n",
    "            Numbers = min(int(NumbersBinary,10),int(NumbersOTSU,10))\n",
    "            Numbers = str(Numbers)\n",
    "\n",
    "    return Numbers"
   ]
  },
  {
   "cell_type": "code",
   "execution_count": 6,
   "metadata": {},
   "outputs": [],
   "source": [
    "def ParseLetters(Letters):\n",
    "    Letters = Letters.replace(\"|\",\"\")\n",
    "    Letters = Letters.replace(\" \",\"\")\n",
    "    Letters = Letters.replace('\\n','')\n",
    "    Letters = Letters.replace('۵','ه')\n",
    "    Letters = Letters.replace('٥','ه')\n",
    "    Letters = Letters.replace(\" \",\"\")\n",
    "    Letters = re.sub(r'[^\\w]', '', Letters)\n",
    "    if len(Letters) == 1:\n",
    "        Char1 = ''\n",
    "        Char2 = ''\n",
    "        Char3 = ''\n",
    "    elif len(Letters)==2:\n",
    "        Char1 = Letters[0]\n",
    "        Char2 = Letters[1]\n",
    "        Char3 = ''\n",
    "    elif len(Letters)==3:\n",
    "        Char1 = Letters[0]\n",
    "        Char2 = Letters[1]\n",
    "        Char3 = Letters[2]\n",
    "    else:\n",
    "        Char1,Char2,Char3 = '','',''\n",
    "    return Char1,Char2,Char3\n",
    "\n",
    "def ParseNumbers(Numbers):\n",
    "    Numbers = Numbers.replace(' ','')\n",
    "    Numbers = Numbers.replace('\\n','')\n",
    "    Numbers = re.sub(r'[^\\w]', ' ', Numbers)\n",
    "    return Numbers"
   ]
  },
  {
   "cell_type": "code",
   "execution_count": 7,
   "metadata": {},
   "outputs": [],
   "source": [
    "def LicenseFines(InputImage):\n",
    "    NumBIN,NumOTSU,LetOTSU,LetBIN = LicenseCutter(InputImage,CutLimit=0)\n",
    "    Char1,Char2,Char3 = ParseLetters(LettersDetection(LetBIN,LetOTSU))    \n",
    "    Numbers           = ParseNumbers(NumbersDetection(NumBIN,NumOTSU))\n",
    "    \n",
    "    if len(Char1)+len(Char2)+len(Char3) == 0:\n",
    "        NumBIN,NumOTSU,LetOTSU,LetBIN = LicenseCutter(InputImage,CutLimit=1)\n",
    "        Char1,Char2,Char3 = ParseLetters(LettersDetection(LetBIN,LetOTSU))    \n",
    "        Numbers           = ParseNumbers(NumbersDetection(NumBIN,NumOTSU))\n",
    "        \n",
    "    link = \"https://www.egypt.gov.eg/mobile/Services/NTPMOJ-GG/functions/PayFines.aspx\"\n",
    "    Char1,Char2,Char3 = Char1,Char2,Char3\n",
    "    Num = Numbers\n",
    "    print(Char1,Char2,Char3)\n",
    "    print(Numbers)\n",
    "    Fines = GetFines(link,Char1,Char2,Char3,Num)\n",
    "    return Fines"
   ]
  },
  {
   "cell_type": "code",
   "execution_count": 10,
   "metadata": {},
   "outputs": [
    {
     "name": "stdout",
     "output_type": "stream",
     "text": [
      "ل ف ه\n",
      "485\n",
      "505.00 جنيها\n"
     ]
    },
    {
     "data": {
      "image/png": "[encoded data removed]",
      "text/plain": [
       "<Figure size 1080x1080 with 2 Axes>"
      ]
     },
     "metadata": {
      "needs_background": "light"
     },
     "output_type": "display_data"
    }
   ],
   "source": [
    "Image = cv2.imread('Lisence_Test/test5.jpg')\n",
    "print(LicenseFines(Image))"
   ]
  },
  {
   "cell_type": "code",
   "execution_count": null,
   "metadata": {},
   "outputs": [],
   "source": []
  }
 ],
 "metadata": {
  "kernelspec": {
   "display_name": "Python 3",
   "language": "python",
   "name": "python3"
  },
  "language_info": {
   "codemirror_mode": {
    "name": "ipython",
    "version": 3
   },
   "file_extension": ".py",
   "mimetype": "text/x-python",
   "name": "python",
   "nbconvert_exporter": "python",
   "pygments_lexer": "ipython3",
   "version": "3.6.7"
  }
 },
 "nbformat": 4,
 "nbformat_minor": 2
}
