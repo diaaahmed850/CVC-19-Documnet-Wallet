{
 "cells": [
  {
   "cell_type": "code",
   "execution_count": 1,
   "metadata": {},
   "outputs": [],
   "source": [
    "from HelperFunc import *\n",
    "from ImportLib import *\n",
    "from Plot import *\n",
    "from BusinessCardParser import *"
   ]
  },
  {
   "cell_type": "code",
   "execution_count": 2,
   "metadata": {
    "scrolled": false
   },
   "outputs": [],
   "source": [
    "def BusinessCutter(InputImage):\n",
    "\n",
    "    image = InputImage\n",
    "    image = increase_brightness(image, value=40)\n",
    "    ratio = image.shape[0] / 300.0\n",
    "    orig = image.copy()\n",
    "    image = imutils.resize(image,height = 300)\n",
    "    \n",
    "    # convert the image to grayscale, blur it, and find edges in the image\n",
    "    gray = cv2.cvtColor(image, cv2.COLOR_BGR2GRAY)\n",
    "    gray = cv2.bilateralFilter(gray, 11, 17, 17)\n",
    "    edged = cv2.Canny(gray, 50, 200,3)\n",
    "\n",
    "    kernel = np.ones((4,4),np.uint8)\n",
    "    kernel_vertical = np.ones((2,1),np.uint8)\n",
    "    dilate = cv2.dilate(edged,kernel,iterations = 1)\n",
    "    dilate = cv2.dilate(dilate,kernel_vertical,iterations = 2)\n",
    "\n",
    "    cnts = cv2.findContours(dilate.copy(), cv2.RETR_LIST, cv2.CHAIN_APPROX_NONE)\n",
    "    cnts = imutils.grab_contours(cnts)\n",
    "    cnts = sorted(cnts, key = cv2.contourArea, reverse = True)[:10]\n",
    "    screenCnt = None\n",
    "\n",
    "    # loop over our contours\n",
    "    for c in cnts:\n",
    "        # approximate the contour\n",
    "        peri = cv2.arcLength(c, True)\n",
    "        approx = cv2.approxPolyDP(c, 0.015 * peri, True)\n",
    "    \n",
    "        # if our approximated contour has four points, then\n",
    "        # we can assume that we have found our screen\n",
    "        if len(approx) == 4:\n",
    "            screenCnt = approx\n",
    "            break\n",
    "\n",
    "    # apply the four point transform to obtain a top-down\n",
    "    # view of the original image\n",
    "    warped = four_point_transform(orig, screenCnt.reshape(4, 2) * ratio)\n",
    "    warped_Gray = cv2.cvtColor(warped, cv2.COLOR_BGR2GRAY)\n",
    "\n",
    "    clahe = cv2.createCLAHE(clipLimit=1.0, tileGridSize=(8,8))\n",
    "    warped_Gray = clahe.apply(warped_Gray)\n",
    "    warped_Gray = cv2.resize(warped_Gray,(800,450))\n",
    "\n",
    "    config = ('-l eng --oem 1 --psm 11')\n",
    "    result = pytesseract.image_to_string(warped_Gray,config=config)\n",
    "    return result"
   ]
  },
  {
   "cell_type": "code",
   "execution_count": 3,
   "metadata": {},
   "outputs": [],
   "source": [
    "def ResultParser(result):\n",
    "    result = result.replace('’',' ')\n",
    "    result = result.replace('|',' ')\n",
    "    result = result.replace('(','')\n",
    "    result = result.replace(')','')\n",
    "    result_ = result\n",
    "\n",
    "    result_ = re.sub(r'(\\d)\\s+(\\d)', r'\\1\\2', result_)\n",
    "    numbers = re.findall(r'\\d\\d\\d\\d\\d+', result_)\n",
    "    #print(numbers)\n",
    "\n",
    "    name  = []\n",
    "    phone = []\n",
    "    email = []\n",
    "\n",
    "    result = result.splitlines()\n",
    "\n",
    "    for line in result:\n",
    "        \n",
    "        line = line.strip()\n",
    "        line = ' '.join( [w for w in line.split() if len(w)>2] )\n",
    "        info = BusinessCardParser()\n",
    "        contact = info.getContactInfo(line)\n",
    "\n",
    "        # each value below is a string\n",
    "        if contact.getName()!=None :\n",
    "            name.append(contact.getName()) \n",
    "            \n",
    "        if contact.getEmailAddress()!=None :\n",
    "            email.append(contact.getEmailAddress())  \n",
    "\n",
    "    for number in numbers:\n",
    "        numberlist = BusinessCardParser()\n",
    "        contact = numberlist.getContactInfo(number)\n",
    "        if contact.getPhoneNumber()!=None :\n",
    "            phone.append(contact.getPhoneNumber())\n",
    "            \n",
    "    if len(name)==0 :\n",
    "        name = [None] \n",
    "            \n",
    "    if len(phone)==0 :\n",
    "        phone = [None]\n",
    "            \n",
    "    if len(email)==0 :\n",
    "        email = [None]\n",
    "\n",
    "    return name,phone,email"
   ]
  },
  {
   "cell_type": "code",
   "execution_count": 4,
   "metadata": {},
   "outputs": [],
   "source": [
    "def BusinessScanner(InputImage):\n",
    "    result = BusinessCutter(InputImage)\n",
    "    Name,Phone,Email = ResultParser(result)\n",
    "    return Name,Phone,Email"
   ]
  },
  {
   "cell_type": "code",
   "execution_count": 8,
   "metadata": {},
   "outputs": [
    {
     "name": "stdout",
     "output_type": "stream",
     "text": [
      "['Yahia Zakaria'] ['01008011387', '01000069656'] ['ntarget@ymail.com']\n"
     ]
    }
   ],
   "source": [
    "imgpath = \"card1.jpg\"\n",
    "InputImage       = cv2.imread(imgpath)\n",
    "Name,Phone,Email = BusinessScanner(InputImage)\n",
    "print(Name,Phone,Email)"
   ]
  },
  {
   "cell_type": "code",
   "execution_count": null,
   "metadata": {},
   "outputs": [],
   "source": []
  }
 ],
 "metadata": {
  "kernelspec": {
   "display_name": "Python 3",
   "language": "python",
   "name": "python3"
  },
  "language_info": {
   "codemirror_mode": {
    "name": "ipython",
    "version": 3
   },
   "file_extension": ".py",
   "mimetype": "text/x-python",
   "name": "python",
   "nbconvert_exporter": "python",
   "pygments_lexer": "ipython3",
   "version": "3.6.7"
  }
 },
 "nbformat": 4,
 "nbformat_minor": 2
}
